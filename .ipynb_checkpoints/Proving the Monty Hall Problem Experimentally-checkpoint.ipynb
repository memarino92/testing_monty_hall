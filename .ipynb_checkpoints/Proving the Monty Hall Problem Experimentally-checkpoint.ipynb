{
 "cells": [
  {
   "cell_type": "code",
   "execution_count": 555,
   "metadata": {},
   "outputs": [],
   "source": [
    "import random"
   ]
  },
  {
   "cell_type": "code",
   "execution_count": 556,
   "metadata": {},
   "outputs": [],
   "source": [
    "# define a Door Class that has a name, and something behind it, and a method that adds what is behind it to the name\n",
    "class Door:\n",
    "    def __init__(self, name, behind):\n",
    "        self.behind = behind\n",
    "        self.name = name\n",
    "        self.is_closed = True\n",
    "    \n",
    "    def __repr__(self):\n",
    "        return self.name\n",
    "    \n",
    "    def open_door(self):\n",
    "        self.name = self.name + ': ' + self.behind\n",
    "        self.is_closed = False\n",
    "        \n",
    "    def is_closed(self):\n",
    "        return self.is_closed"
   ]
  },
  {
   "cell_type": "code",
   "execution_count": 557,
   "metadata": {},
   "outputs": [],
   "source": [
    "# define function that generates a number or doors with choices from the list passed in\n",
    "# currently destroys list of outcomes passed in, should change to use copy then change \"play_game_n_times\" function to not copy again\n",
    "def generate_random_doors(outcomes):\n",
    "    list_of_doors = []\n",
    "    for i in range(len(outcomes)):\n",
    "        rand_index = random.randint(0, (len(outcomes)-1))\n",
    "        list_of_doors.append(Door('Door '+str(i+1), outcomes[rand_index]))\n",
    "        outcomes.pop(rand_index)\n",
    "    return list_of_doors"
   ]
  },
  {
   "cell_type": "code",
   "execution_count": 558,
   "metadata": {},
   "outputs": [],
   "source": [
    "# a list of the three possible outcomes of openeing a door\n",
    "possible_outcomes = ['car', 'goat', 'goat']    "
   ]
  },
  {
   "cell_type": "code",
   "execution_count": 559,
   "metadata": {},
   "outputs": [
    {
     "name": "stdout",
     "output_type": "stream",
     "text": [
      "[Door 1, Door 2, Door 3]\n"
     ]
    }
   ],
   "source": [
    "# generate a set of doors from our established list of possible outcomes\n",
    "doors = generate_random_doors(possible_outcomes)\n",
    "print(doors)"
   ]
  },
  {
   "cell_type": "code",
   "execution_count": 560,
   "metadata": {},
   "outputs": [],
   "source": [
    "#define a contestant class that makes a choice, and has a boolean value set for if they switch when given a choice\n",
    "class Contestant:\n",
    "    def __init__(self, always_switches):\n",
    "        self.choice = None\n",
    "        self.always_switches = always_switches\n",
    "        \n",
    "    def make_choice(self, choices):\n",
    "        self.choice = choices[random.randrange(0, len(choices))]\n",
    "    \n",
    "    def switch_choice(self, choices):\n",
    "        for choice in choices:\n",
    "            if not choice == self.choice and choice.is_closed:\n",
    "                self.choice = choice    "
   ]
  },
  {
   "cell_type": "code",
   "execution_count": 561,
   "metadata": {},
   "outputs": [],
   "source": [
    "always_switches = Contestant(True)\n",
    "never_switches = Contestant(False)"
   ]
  },
  {
   "cell_type": "code",
   "execution_count": 562,
   "metadata": {},
   "outputs": [
    {
     "name": "stdout",
     "output_type": "stream",
     "text": [
      "[Door 1, Door 2, Door 3]\n",
      "Door 1\n"
     ]
    }
   ],
   "source": [
    "print(doors)\n",
    "always_switches.make_choice(doors)\n",
    "print(always_switches.choice)"
   ]
  },
  {
   "cell_type": "code",
   "execution_count": 563,
   "metadata": {},
   "outputs": [
    {
     "name": "stdout",
     "output_type": "stream",
     "text": [
      "[Door 1, Door 2, Door 3: goat]\n"
     ]
    }
   ],
   "source": [
    "for closed_door in doors:\n",
    "    if closed_door != always_switches.choice and closed_door.behind != 'car':\n",
    "        closed_door.open_door()\n",
    "print(doors)"
   ]
  },
  {
   "cell_type": "code",
   "execution_count": 564,
   "metadata": {},
   "outputs": [
    {
     "name": "stdout",
     "output_type": "stream",
     "text": [
      "Door 2\n"
     ]
    }
   ],
   "source": [
    "always_switches.switch_choice(doors)\n",
    "print(always_switches.choice)"
   ]
  },
  {
   "cell_type": "code",
   "execution_count": 565,
   "metadata": {},
   "outputs": [
    {
     "data": {
      "text/plain": [
       "'car'"
      ]
     },
     "execution_count": 565,
     "metadata": {},
     "output_type": "execute_result"
    }
   ],
   "source": [
    "always_switches.choice.behind"
   ]
  },
  {
   "cell_type": "code",
   "execution_count": 566,
   "metadata": {},
   "outputs": [],
   "source": [
    "def play_game(contestant, possible_outcomes):\n",
    "    outcomes = possible_outcomes[:]\n",
    "    new_doors = generate_random_doors(outcomes)\n",
    "   # print(new_doors)\n",
    "    contestant.make_choice(new_doors)\n",
    "    #print(\"Contestant choice: {}\".format(contestant.choice))\n",
    "    for closed_door in new_doors:\n",
    "        if closed_door != contestant.choice and closed_door.behind != 'car':\n",
    "            closed_door.open_door()\n",
    "    #print(new_doors)\n",
    "    if contestant.always_switches == True:\n",
    "        contestant.switch_choice(new_doors)\n",
    "     #   print(\"Contestant switched choice to {}\".format(contestant.choice))\n",
    "   # else:\n",
    "      #  print(\"Contestant stayed with their choice of {}\".format(contestant.choice))\n",
    "        \n",
    "    if contestant.choice.behind == 'car':\n",
    "        return True\n",
    "    else:\n",
    "        return False\n",
    "    "
   ]
  },
  {
   "cell_type": "code",
   "execution_count": 567,
   "metadata": {
    "scrolled": true
   },
   "outputs": [
    {
     "data": {
      "text/plain": [
       "False"
      ]
     },
     "execution_count": 567,
     "metadata": {},
     "output_type": "execute_result"
    }
   ],
   "source": [
    "play_game(always_switches, ['car', 'goat', 'goat'])"
   ]
  },
  {
   "cell_type": "code",
   "execution_count": 568,
   "metadata": {},
   "outputs": [],
   "source": [
    "def play_game_n_times(n, contestant, outcomes):\n",
    "    result_list = []\n",
    "    while len(result_list) < n:\n",
    "        result_list.append(play_game(contestant, outcomes))\n",
    "    return result_list"
   ]
  },
  {
   "cell_type": "code",
   "execution_count": 569,
   "metadata": {},
   "outputs": [
    {
     "name": "stdout",
     "output_type": "stream",
     "text": [
      "True\n",
      "False\n",
      "True\n",
      "True\n",
      "True\n",
      "True\n",
      "False\n",
      "True\n",
      "True\n",
      "True\n"
     ]
    }
   ],
   "source": [
    "ten_results = play_game_n_times(10, always_switches, ['car', 'goat', 'goat'])\n",
    "for result in ten_results:\n",
    "    print(result)"
   ]
  },
  {
   "cell_type": "code",
   "execution_count": 573,
   "metadata": {},
   "outputs": [
    {
     "name": "stdout",
     "output_type": "stream",
     "text": [
      "Number of switch wins: 679\n",
      "Number of switch losses: 321\n",
      "Number of stay wins: 331\n",
      "Number of stay losses: 669\n"
     ]
    }
   ],
   "source": [
    "one_thousand_switches = play_game_n_times(1000, always_switches, ['car', 'goat', 'goat'])\n",
    "one_thousand_stays = play_game_n_times(1000, never_switches, ['car', 'goat', 'goat'])\n",
    "\n",
    "switch_wins = 0\n",
    "switch_losses = 0\n",
    "\n",
    "stay_wins = 0\n",
    "stay_losses = 0\n",
    "\n",
    "for result in one_thousand_switches:\n",
    "    if result:\n",
    "        switch_wins += 1\n",
    "    else:\n",
    "        switch_losses += 1\n",
    "        \n",
    "for result in one_thousand_stays:\n",
    "    if result:\n",
    "        stay_wins += 1\n",
    "    else:\n",
    "        stay_losses += 1\n",
    "        \n",
    "print(\"Number of switch wins: {}\".format(switch_wins))\n",
    "print(\"Number of switch losses: {}\".format(switch_losses))\n",
    "\n",
    "print(\"Number of stay wins: {}\".format(stay_wins))\n",
    "print(\"Number of stay losses: {}\".format(stay_losses))"
   ]
  },
  {
   "cell_type": "code",
   "execution_count": null,
   "metadata": {},
   "outputs": [],
   "source": []
  }
 ],
 "metadata": {
  "kernelspec": {
   "display_name": "Python 3",
   "language": "python",
   "name": "python3"
  },
  "language_info": {
   "codemirror_mode": {
    "name": "ipython",
    "version": 3
   },
   "file_extension": ".py",
   "mimetype": "text/x-python",
   "name": "python",
   "nbconvert_exporter": "python",
   "pygments_lexer": "ipython3",
   "version": "3.8.2"
  }
 },
 "nbformat": 4,
 "nbformat_minor": 4
}
